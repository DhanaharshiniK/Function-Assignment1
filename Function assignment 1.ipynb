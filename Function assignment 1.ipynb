{
 "cells": [
  {
   "cell_type": "code",
   "execution_count": 37,
   "id": "822c14a5-4be6-41bd-8bee-ed5a27f4e75b",
   "metadata": {},
   "outputs": [
    {
     "name": "stdout",
     "output_type": "stream",
     "text": [
      "Sub-fields in AI are:\n",
      "Machine learning\n",
      "Neural Networks\n",
      "Vision\n",
      "Robotics\n",
      "Speech processing\n",
      "Natural language processing\n"
     ]
    }
   ],
   "source": [
    "def subfields():\n",
    "    v='Sub-fields in AI are:'\n",
    "    print(v)\n",
    "    v='Machine learning'\n",
    "    print(v)\n",
    "    v='Neural Networks'\n",
    "    print(v)\n",
    "    v='Vision'\n",
    "    print(v)\n",
    "    v='Robotics'\n",
    "    print(v)\n",
    "    v='Speech processing'\n",
    "    print(v)\n",
    "    v='Natural language processing'\n",
    "    print(v)\n",
    "    return v\n",
    "\n",
    "a=subfields()"
   ]
  },
  {
   "cell_type": "code",
   "execution_count": 38,
   "id": "5c35668b-aa43-414d-aa63-d4ef697de261",
   "metadata": {},
   "outputs": [
    {
     "name": "stdin",
     "output_type": "stream",
     "text": [
      "Enter a number: 52452\n"
     ]
    },
    {
     "name": "stdout",
     "output_type": "stream",
     "text": [
      "52452 is even number\n"
     ]
    }
   ],
   "source": [
    "def OddEven():\n",
    "    if(num%2==0):\n",
    "        print(num,'is even number')\n",
    "    else:\n",
    "        \n",
    "        print(num,'is odd number')\n",
    "        \n",
    "num=int(input('Enter a number:'))\n",
    "oddeven=OddEven()"
   ]
  },
  {
   "cell_type": "code",
   "execution_count": 49,
   "id": "3fe1c839-5b27-4a95-bbbc-8f739170bb1c",
   "metadata": {},
   "outputs": [
    {
     "name": "stdin",
     "output_type": "stream",
     "text": [
      "Your Gender: male\n",
      "Your Age: 20\n"
     ]
    },
    {
     "name": "stdout",
     "output_type": "stream",
     "text": [
      "NotElegible\n"
     ]
    }
   ],
   "source": [
    "def Elegible(gender, age):   \n",
    "    if(gender == \"male\" and age>=21):\n",
    "        b='Elegible'\n",
    "        print(b)\n",
    "    elif (gender == \"male\" and age <21):\n",
    "        b='NotElegible'\n",
    "        print(b)\n",
    "        return b\n",
    "\n",
    "    elif (gender == \"female\" and age >= 18):\n",
    "        b='Elegible'\n",
    "        print(b)\n",
    "    else:\n",
    "        b='NotElegible'\n",
    "        print(b)\n",
    "    \n",
    "        \n",
    "        \n",
    "gender=input('Your Gender:')\n",
    "age=int(input('Your Age:'))\n",
    "b=Elegible(gender, age)"
   ]
  },
  {
   "cell_type": "code",
   "execution_count": 44,
   "id": "5b94396f-ffc3-43da-b09a-fe663a56359c",
   "metadata": {},
   "outputs": [
    {
     "name": "stdin",
     "output_type": "stream",
     "text": [
      "Subject1= 98\n",
      "Subject2= 87\n",
      "Subject3= 95\n",
      "Subject4= 95\n",
      "Subject5= 93\n"
     ]
    },
    {
     "name": "stdout",
     "output_type": "stream",
     "text": [
      "Total: 468\n",
      "percentage: 93.6\n"
     ]
    }
   ],
   "source": [
    "def percentage():\n",
    "    Total=s1+s2+s3+s4+s5\n",
    "    print('Total:',Total)\n",
    "    percentage=Total/5\n",
    "    print('percentage:',percentage)\n",
    "    return Total,percentage\n",
    "\n",
    "s1=int(input('Subject1='))\n",
    "s2=int(input('Subject2='))\n",
    "s3=int(input('Subject3='))\n",
    "s4=int(input('Subject4='))\n",
    "s5=int(input('Subject5='))\n",
    "b=percentage()"
   ]
  },
  {
   "cell_type": "code",
   "execution_count": 7,
   "id": "74af33b6-cfd7-4e64-9c2d-a64523b582dd",
   "metadata": {},
   "outputs": [
    {
     "name": "stdin",
     "output_type": "stream",
     "text": [
      "height: 32\n",
      "breadth: 34\n"
     ]
    },
    {
     "name": "stdout",
     "output_type": "stream",
     "text": [
      "area formula=(height*breadth)/2\n",
      "area of triangle: 544.0\n"
     ]
    },
    {
     "name": "stdin",
     "output_type": "stream",
     "text": [
      "height1: 2\n",
      "height2: 4\n",
      "breadth: 4\n"
     ]
    },
    {
     "name": "stdout",
     "output_type": "stream",
     "text": [
      "perimeter formula= height1+height2+breadth\n",
      "perimeter of triangle: 10\n"
     ]
    }
   ],
   "source": [
    "def triangle():\n",
    "    height=int(input('height:'))\n",
    "    breadth=int(input('breadth:'))\n",
    "    v=('area formula=(height*breadth)/2')\n",
    "    print(v)\n",
    "    print('area of triangle:',(height*breadth)/2)\n",
    "    height1=int(input('height1:'))\n",
    "    height2=int(input('height2:'))\n",
    "    breadth=int(input('breadth:'))\n",
    "    v=('perimeter formula= height1+height2+breadth')\n",
    "    print(v)\n",
    "    print('perimeter of triangle:',height1+height2+breadth)\n",
    "    return v\n",
    "\n",
    "\n",
    "\n",
    "b=triangle()"
   ]
  },
  {
   "cell_type": "code",
   "execution_count": null,
   "id": "1bb5a272-bda3-4627-9f74-9954b97b45c5",
   "metadata": {},
   "outputs": [],
   "source": []
  },
  {
   "cell_type": "code",
   "execution_count": null,
   "id": "ab82ce82-35eb-4203-ab79-86cba3e47b48",
   "metadata": {},
   "outputs": [],
   "source": []
  },
  {
   "cell_type": "code",
   "execution_count": null,
   "id": "38851494-16b9-4704-ad2f-8d2a1a14eb01",
   "metadata": {},
   "outputs": [],
   "source": []
  },
  {
   "cell_type": "code",
   "execution_count": null,
   "id": "1d102f13-1449-47e1-a5ac-81d7d39f5d0b",
   "metadata": {},
   "outputs": [],
   "source": []
  }
 ],
 "metadata": {
  "kernelspec": {
   "display_name": "Python 3 (ipykernel)",
   "language": "python",
   "name": "python3"
  },
  "language_info": {
   "codemirror_mode": {
    "name": "ipython",
    "version": 3
   },
   "file_extension": ".py",
   "mimetype": "text/x-python",
   "name": "python",
   "nbconvert_exporter": "python",
   "pygments_lexer": "ipython3",
   "version": "3.12.4"
  }
 },
 "nbformat": 4,
 "nbformat_minor": 5
}
